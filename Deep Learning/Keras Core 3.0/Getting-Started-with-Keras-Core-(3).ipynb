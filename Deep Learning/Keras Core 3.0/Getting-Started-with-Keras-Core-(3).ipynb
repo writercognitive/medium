{
  "cells": [
    {
      "cell_type": "markdown",
      "metadata": {
        "id": "9kdfJMCYQSWh"
      },
      "source": [
        "# Install Keras Core"
      ]
    },
    {
      "cell_type": "code",
      "execution_count": 1,
      "metadata": {
        "colab": {
          "base_uri": "https://localhost:8080/"
        },
        "id": "CMR5VzClIJ5c",
        "outputId": "91167594-9cea-4436-de66-636ff7464ece"
      },
      "outputs": [
        {
          "name": "stdout",
          "output_type": "stream",
          "text": [
            "\u001b[?25l     \u001b[90m━━━━━━━━━━━━━━━━━━━━━━━━━━━━━━━━━━━━━━━━\u001b[0m \u001b[32m0.0/851.9 kB\u001b[0m \u001b[31m?\u001b[0m eta \u001b[36m-:--:--\u001b[0m\r\u001b[2K     \u001b[91m━\u001b[0m\u001b[90m╺\u001b[0m\u001b[90m━━━━━━━━━━━━━━━━━━━━━━━━━━━━━━━━━━━━\u001b[0m \u001b[32m30.7/851.9 kB\u001b[0m \u001b[31m847.6 kB/s\u001b[0m eta \u001b[36m0:00:01\u001b[0m\r\u001b[2K     \u001b[91m━━━━━━━\u001b[0m\u001b[91m╸\u001b[0m\u001b[90m━━━━━━━━━━━━━━━━━━━━━━━━━━━━━━━\u001b[0m \u001b[32m174.1/851.9 kB\u001b[0m \u001b[31m2.5 MB/s\u001b[0m eta \u001b[36m0:00:01\u001b[0m\r\u001b[2K     \u001b[91m━━━━━━━━━━━━━━━━━━━\u001b[0m\u001b[91m╸\u001b[0m\u001b[90m━━━━━━━━━━━━━━━━━━━\u001b[0m \u001b[32m430.1/851.9 kB\u001b[0m \u001b[31m4.0 MB/s\u001b[0m eta \u001b[36m0:00:01\u001b[0m\r\u001b[2K     \u001b[91m━━━━━━━━━━━━━━━━━━━━━━━━━━━━━━━━━\u001b[0m\u001b[90m╺\u001b[0m\u001b[90m━━━━━\u001b[0m \u001b[32m727.0/851.9 kB\u001b[0m \u001b[31m5.0 MB/s\u001b[0m eta \u001b[36m0:00:01\u001b[0m\r\u001b[2K     \u001b[91m━━━━━━━━━━━━━━━━━━━━━━━━━━━━━━━━━━━━━━\u001b[0m\u001b[91m╸\u001b[0m \u001b[32m849.9/851.9 kB\u001b[0m \u001b[31m5.3 MB/s\u001b[0m eta \u001b[36m0:00:01\u001b[0m\r\u001b[2K     \u001b[90m━━━━━━━━━━━━━━━━━━━━━━━━━━━━━━━━━━━━━━━\u001b[0m \u001b[32m851.9/851.9 kB\u001b[0m \u001b[31m4.6 MB/s\u001b[0m eta \u001b[36m0:00:00\u001b[0m\n",
            "\u001b[?25h"
          ]
        }
      ],
      "source": [
        "!pip install -q keras-core\n"
      ]
    },
    {
      "cell_type": "markdown",
      "metadata": {
        "id": "nORVuavSQVy_"
      },
      "source": [
        "# Set the Backend"
      ]
    },
    {
      "cell_type": "code",
      "execution_count": 2,
      "metadata": {
        "colab": {
          "base_uri": "https://localhost:8080/"
        },
        "id": "PilRNqeUIOsR",
        "outputId": "475f7ed2-ab7a-4cc1-cae8-da53f2b0932e"
      },
      "outputs": [
        {
          "name": "stdout",
          "output_type": "stream",
          "text": [
            "Using TensorFlow backend\n"
          ]
        }
      ],
      "source": [
        "import os\n",
        "os.environ[\"KERAS_BACKEND\"] = \"tensorflow\"  # Change to \"jax\" or \"torch\" for different backends\n",
        "import keras_core as keras"
      ]
    },
    {
      "cell_type": "markdown",
      "metadata": {
        "id": "uY0ntu2WQZrq"
      },
      "source": [
        "# A Hands-On Example: Building a MNIST Convolutional Neural Network"
      ]
    },
    {
      "cell_type": "code",
      "execution_count": 3,
      "metadata": {
        "colab": {
          "base_uri": "https://localhost:8080/"
        },
        "id": "Tg1McnIVIZI1",
        "outputId": "c8139f2e-d45b-4001-944f-76e641812e7d"
      },
      "outputs": [
        {
          "name": "stdout",
          "output_type": "stream",
          "text": [
            "Downloading data from https://storage.googleapis.com/tensorflow/tf-keras-datasets/mnist.npz\n",
            "\u001b[1m11490434/11490434\u001b[0m \u001b[32m━━━━━━━━━━━━━━━━━━━━\u001b[0m\u001b[37m\u001b[0m \u001b[1m1s\u001b[0m 0us/step\n",
            "x_train shape: (60000, 28, 28, 1)\n",
            "y_train shape: (60000,)\n",
            "60000 train samples\n",
            "10000 test samples\n"
          ]
        }
      ],
      "source": [
        "import numpy as np\n",
        "import keras_core as keras\n",
        "\n",
        "# Load the MNIST dataset\n",
        "(x_train, y_train), (x_test, y_test) = keras.datasets.mnist.load_data()\n",
        "\n",
        "# Scale images to the range [0, 1]\n",
        "x_train = x_train.astype(\"float32\") / 255\n",
        "x_test = x_test.astype(\"float32\") / 255\n",
        "\n",
        "# Expand dimensions to (num_samples, height, width, channels)\n",
        "x_train = np.expand_dims(x_train, -1)\n",
        "x_test = np.expand_dims(x_test, -1)\n",
        "\n",
        "# Print dataset information\n",
        "print(\"x_train shape:\", x_train.shape)\n",
        "print(\"y_train shape:\", y_train.shape)\n",
        "print(x_train.shape[0], \"train samples\")\n",
        "print(x_test.shape[0], \"test samples\")"
      ]
    },
    {
      "cell_type": "markdown",
      "metadata": {
        "id": "n4qHE9A5Qd1o"
      },
      "source": [
        "# Creating the Model: A Step-by-Step Guide"
      ]
    },
    {
      "cell_type": "code",
      "execution_count": 4,
      "metadata": {
        "id": "zV5hIc4MIcvL"
      },
      "outputs": [],
      "source": [
        "# Model parameters\n",
        "num_classes = 10\n",
        "input_shape = (28, 28, 1)\n",
        "\n",
        "# Define the model\n",
        "model = keras.Sequential(\n",
        "    [\n",
        "        keras.layers.Input(shape=input_shape),\n",
        "        keras.layers.Conv2D(64, kernel_size=(3, 3), activation=\"relu\"),\n",
        "        keras.layers.Conv2D(64, kernel_size=(3, 3), activation=\"relu\"),\n",
        "        keras.layers.MaxPooling2D(pool_size=(2, 2)),\n",
        "        keras.layers.Conv2D(128, kernel_size=(3, 3), activation=\"relu\"),\n",
        "        keras.layers.Conv2D(128, kernel_size=(3, 3), activation=\"relu\"),\n",
        "        keras.layers.GlobalAveragePooling2D(),\n",
        "        keras.layers.Dropout(0.5),\n",
        "        keras.layers.Dense(num_classes, activation=\"softmax\"),\n",
        "    ]\n",
        ")"
      ]
    },
    {
      "cell_type": "markdown",
      "metadata": {
        "id": "DEQEn25JQiAB"
      },
      "source": [
        "# Compiling the Model: Optimizer, Loss Function, and Metrics"
      ]
    },
    {
      "cell_type": "code",
      "execution_count": 5,
      "metadata": {
        "id": "_ds2FdY9Ig2k"
      },
      "outputs": [],
      "source": [
        "# Compile the model\n",
        "model.compile(\n",
        "    loss=keras.losses.SparseCategoricalCrossentropy(),\n",
        "    optimizer=keras.optimizers.Adam(learning_rate=1e-3),\n",
        "    metrics=[keras.metrics.SparseCategoricalAccuracy(name=\"acc\")],\n",
        ")"
      ]
    },
    {
      "cell_type": "markdown",
      "metadata": {
        "id": "rc5EAstAQk0R"
      },
      "source": [
        "# Training and Evaluation: Monitoring Generalization with Validation Split"
      ]
    },
    {
      "cell_type": "code",
      "execution_count": 7,
      "metadata": {
        "colab": {
          "base_uri": "https://localhost:8080/"
        },
        "id": "5-kYIlAjIjjM",
        "outputId": "14390927-c532-418c-f11a-474031bffd66"
      },
      "outputs": [
        {
          "name": "stdout",
          "output_type": "stream",
          "text": [
            "\u001b[1m399/399\u001b[0m \u001b[32m━━━━━━━━━━━━━━━━━━━━\u001b[0m\u001b[37m\u001b[0m \u001b[1m536s\u001b[0m 1s/step - acc: 0.8958 - loss: 0.3483 - val_acc: 0.9714 - val_loss: 0.1003\n",
            "Test loss: 0.09782327711582184\n",
            "Test accuracy: 0.9717000126838684\n"
          ]
        }
      ],
      "source": [
        "# Training parameters\n",
        "# You need to update epochs to 20 instead of 1 before execution.\n",
        "batch_size = 128\n",
        "epochs = 1\n",
        "\n",
        "# Define callbacks (optional)\n",
        "callbacks = [\n",
        "    keras.callbacks.ModelCheckpoint(filepath=\"model_at_epoch_{epoch}.keras\"),\n",
        "    keras.callbacks.EarlyStopping(monitor=\"val_loss\", patience=2),\n",
        "]\n",
        "\n",
        "# Train the model\n",
        "model.fit(\n",
        "    x_train,\n",
        "    y_train,\n",
        "    batch_size=batch_size,\n",
        "    epochs=epochs,\n",
        "    validation_split=0.15,\n",
        "    callbacks=callbacks,\n",
        ")\n",
        "\n",
        "# Evaluate the model on the test data\n",
        "score = model.evaluate(x_test, y_test, verbose=0)\n",
        "print(\"Test loss:\", score[0])\n",
        "print(\"Test accuracy:\", score[1])"
      ]
    },
    {
      "cell_type": "markdown",
      "metadata": {
        "id": "RwZ3bBtdQoQK"
      },
      "source": [
        "# Saving and Reloading Models"
      ]
    },
    {
      "cell_type": "code",
      "execution_count": 8,
      "metadata": {
        "id": "PLhIqtHcImls"
      },
      "outputs": [],
      "source": [
        "# Save the model\n",
        "model.save(\"final_model.keras\")\n",
        "\n",
        "# Reloading the model\n",
        "reloaded_model = keras.saving.load_model(\"final_model.keras\")"
      ]
    },
    {
      "cell_type": "code",
      "execution_count": null,
      "metadata": {
        "id": "GP2KVzuHRLAc"
      },
      "outputs": [],
      "source": []
    }
  ],
  "metadata": {
    "colab": {
      "provenance": []
    },
    "kernelspec": {
      "display_name": "Python 3",
      "name": "python3"
    },
    "language_info": {
      "name": "python"
    }
  },
  "nbformat": 4,
  "nbformat_minor": 0
}
