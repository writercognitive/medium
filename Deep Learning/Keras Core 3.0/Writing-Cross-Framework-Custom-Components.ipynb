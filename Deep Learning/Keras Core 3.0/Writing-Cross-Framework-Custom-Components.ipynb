{
  "nbformat": 4,
  "nbformat_minor": 0,
  "metadata": {
    "colab": {
      "provenance": []
    },
    "kernelspec": {
      "name": "python3",
      "display_name": "Python 3"
    },
    "language_info": {
      "name": "python"
    }
  },
  "cells": [
    {
      "cell_type": "markdown",
      "source": [
        "# Install Keras Core"
      ],
      "metadata": {
        "id": "ikYpCaCdQwOX"
      }
    },
    {
      "cell_type": "code",
      "source": [
        "!pip install -q keras-core"
      ],
      "metadata": {
        "colab": {
          "base_uri": "https://localhost:8080/"
        },
        "id": "64jqcp4KJHQ8",
        "outputId": "a69b02f8-76e2-42ff-bfd2-e8ad7f624409"
      },
      "execution_count": 1,
      "outputs": [
        {
          "output_type": "stream",
          "name": "stdout",
          "text": [
            "\u001b[?25l     \u001b[90m━━━━━━━━━━━━━━━━━━━━━━━━━━━━━━━━━━━━━━━━\u001b[0m \u001b[32m0.0/851.9 kB\u001b[0m \u001b[31m?\u001b[0m eta \u001b[36m-:--:--\u001b[0m\r\u001b[2K     \u001b[91m━\u001b[0m\u001b[91m╸\u001b[0m\u001b[90m━━━━━━━━━━━━━━━━━━━━━━━━━━━━━━━━━━━━━━\u001b[0m \u001b[32m41.0/851.9 kB\u001b[0m \u001b[31m1.1 MB/s\u001b[0m eta \u001b[36m0:00:01\u001b[0m\r\u001b[2K     \u001b[91m━━━━━━━━━━━━━\u001b[0m\u001b[91m╸\u001b[0m\u001b[90m━━━━━━━━━━━━━━━━━━━━━━━━━\u001b[0m \u001b[32m297.0/851.9 kB\u001b[0m \u001b[31m4.3 MB/s\u001b[0m eta \u001b[36m0:00:01\u001b[0m\r\u001b[2K     \u001b[91m━━━━━━━━━━━━━━━━━━━━━━━━━━━━\u001b[0m\u001b[91m╸\u001b[0m\u001b[90m━━━━━━━━━━\u001b[0m \u001b[32m624.6/851.9 kB\u001b[0m \u001b[31m5.9 MB/s\u001b[0m eta \u001b[36m0:00:01\u001b[0m\r\u001b[2K     \u001b[91m━━━━━━━━━━━━━━━━━━━━━━━━━━━━━━━━━━━━━━\u001b[0m\u001b[91m╸\u001b[0m \u001b[32m849.9/851.9 kB\u001b[0m \u001b[31m6.5 MB/s\u001b[0m eta \u001b[36m0:00:01\u001b[0m\r\u001b[2K     \u001b[90m━━━━━━━━━━━━━━━━━━━━━━━━━━━━━━━━━━━━━━━\u001b[0m \u001b[32m851.9/851.9 kB\u001b[0m \u001b[31m5.6 MB/s\u001b[0m eta \u001b[36m0:00:00\u001b[0m\n",
            "\u001b[?25h"
          ]
        }
      ]
    },
    {
      "cell_type": "markdown",
      "source": [
        "# Set the Backend"
      ],
      "metadata": {
        "id": "hBy5kuLMQz8f"
      }
    },
    {
      "cell_type": "code",
      "source": [
        "import os\n",
        "os.environ[\"KERAS_BACKEND\"] = \"tensorflow\"  # Change to \"jax\" or \"torch\" for different backends\n",
        "import keras_core as keras"
      ],
      "metadata": {
        "colab": {
          "base_uri": "https://localhost:8080/"
        },
        "id": "JsWoy4_kL_ju",
        "outputId": "f0f9c083-6c0f-44f6-87da-ce7de952306d"
      },
      "execution_count": 2,
      "outputs": [
        {
          "output_type": "stream",
          "name": "stdout",
          "text": [
            "Using TensorFlow backend\n"
          ]
        }
      ]
    },
    {
      "cell_type": "markdown",
      "source": [
        "# A Hands-On Example: Building a MNIST Convolutional Neural Network"
      ],
      "metadata": {
        "id": "SG1n5fQQQ26c"
      }
    },
    {
      "cell_type": "code",
      "source": [
        "import numpy as np\n",
        "import keras_core as keras\n",
        "\n",
        "# Load the MNIST dataset\n",
        "(x_train, y_train), (x_test, y_test) = keras.datasets.mnist.load_data()\n",
        "\n",
        "# Scale images to the range [0, 1]\n",
        "x_train = x_train.astype(\"float32\") / 255\n",
        "x_test = x_test.astype(\"float32\") / 255\n",
        "\n",
        "# Expand dimensions to (num_samples, height, width, channels)\n",
        "x_train = np.expand_dims(x_train, -1)\n",
        "x_test = np.expand_dims(x_test, -1)\n",
        "\n",
        "# Print dataset information\n",
        "print(\"x_train shape:\", x_train.shape)\n",
        "print(\"y_train shape:\", y_train.shape)\n",
        "print(x_train.shape[0], \"train samples\")\n",
        "print(x_test.shape[0], \"test samples\")"
      ],
      "metadata": {
        "colab": {
          "base_uri": "https://localhost:8080/"
        },
        "id": "fawDQLG2MzgO",
        "outputId": "0094c719-5544-454c-c1db-5634ab6ed746"
      },
      "execution_count": 8,
      "outputs": [
        {
          "output_type": "stream",
          "name": "stdout",
          "text": [
            "Downloading data from https://storage.googleapis.com/tensorflow/tf-keras-datasets/mnist.npz\n",
            "\u001b[1m11490434/11490434\u001b[0m \u001b[32m━━━━━━━━━━━━━━━━━━━━\u001b[0m\u001b[37m\u001b[0m \u001b[1m1s\u001b[0m 0us/step\n",
            "x_train shape: (60000, 28, 28, 1)\n",
            "y_train shape: (60000,)\n",
            "60000 train samples\n",
            "10000 test samples\n"
          ]
        }
      ]
    },
    {
      "cell_type": "markdown",
      "source": [
        "# Building a Custom Dense Layer"
      ],
      "metadata": {
        "id": "RgsmKKK1Q4Iz"
      }
    },
    {
      "cell_type": "code",
      "execution_count": 9,
      "metadata": {
        "id": "KGOLVXr0JA1P"
      },
      "outputs": [],
      "source": [
        "import keras_core as keras\n",
        "\n",
        "class MyDense(keras.layers.Layer):\n",
        "    def __init__(self, units, activation=None, name=None):\n",
        "        super().__init__(name=name)\n",
        "        self.units = units\n",
        "        self.activation = keras.activations.get(activation)\n",
        "\n",
        "    def build(self, input_shape):\n",
        "        input_dim = input_shape[-1]\n",
        "        self.w = self.add_weight(\n",
        "            shape=(input_dim, self.units),\n",
        "            initializer=keras.initializers.GlorotNormal(),\n",
        "            name=\"kernel\",\n",
        "            trainable=True,\n",
        "        )\n",
        "\n",
        "        self.b = self.add_weight(\n",
        "            shape=(self.units,),\n",
        "            initializer=keras.initializers.Zeros(),\n",
        "            name=\"bias\",\n",
        "            trainable=True,\n",
        "        )\n",
        "\n",
        "    def call(self, inputs):\n",
        "        # Use Keras ops to create backend-agnostic layers/metrics/etc.\n",
        "        x = keras.ops.matmul(inputs, self.w) + self.b\n",
        "        return self.activation(x)"
      ]
    },
    {
      "cell_type": "markdown",
      "source": [
        "# Implementing a Custom Dropout Layer"
      ],
      "metadata": {
        "id": "bLDKZFN3Q82H"
      }
    },
    {
      "cell_type": "code",
      "source": [
        "class MyDropout(keras.layers.Layer):\n",
        "    def __init__(self, rate, name=None):\n",
        "        super().__init__(name=name)\n",
        "        self.rate = rate\n",
        "        # Use seed_generator for managing RNG state.\n",
        "        # It is a state element, and its seed variable is\n",
        "        # tracked as part of `layer.variables`.\n",
        "        self.seed_generator = keras.random.SeedGenerator(1337)\n",
        "\n",
        "    def call(self, inputs):\n",
        "        # Use `keras_core.random` for random ops.\n",
        "        return keras.random.dropout(inputs, self.rate, seed=self.seed_generator)"
      ],
      "metadata": {
        "id": "oC52lbw_JV1o"
      },
      "execution_count": 10,
      "outputs": []
    },
    {
      "cell_type": "markdown",
      "source": [
        "# Crafting a Custom Subclassed Model"
      ],
      "metadata": {
        "id": "7NAYFAZ3RArR"
      }
    },
    {
      "cell_type": "code",
      "source": [
        "class MyModel(keras.Model):\n",
        "    def __init__(self, num_classes):\n",
        "        super().__init__()\n",
        "        self.conv_base = keras.Sequential(\n",
        "            [\n",
        "                keras.layers.Conv2D(64, kernel_size=(3, 3), activation=\"relu\"),\n",
        "                keras.layers.Conv2D(64, kernel_size=(3, 3), activation=\"relu\"),\n",
        "                keras.layers.MaxPooling2D(pool_size=(2, 2)),\n",
        "                keras.layers.Conv2D(128, kernel_size=(3, 3), activation=\"relu\"),\n",
        "                keras.layers.Conv2D(128, kernel_size=(3, 3), activation=\"relu\"),\n",
        "                keras.layers.GlobalAveragePooling2D(),\n",
        "            ]\n",
        "        )\n",
        "        self.dp = MyDropout(0.5)\n",
        "        self.dense = MyDense(num_classes, activation=\"softmax\")\n",
        "\n",
        "    def call(self, x):\n",
        "        x = self.conv_base(x)\n",
        "        x = self.dp(x)\n",
        "        return self.dense(x)"
      ],
      "metadata": {
        "id": "z4AOHiXjJWbw"
      },
      "execution_count": 11,
      "outputs": []
    },
    {
      "cell_type": "markdown",
      "source": [
        "# Utilizing Our Custom Layers in the Model"
      ],
      "metadata": {
        "id": "JomiraeERDyn"
      }
    },
    {
      "cell_type": "code",
      "source": [
        "model = MyModel(num_classes=10)\n",
        "model.compile(\n",
        "    loss=keras.losses.SparseCategoricalCrossentropy(),\n",
        "    optimizer=keras.optimizers.Adam(learning_rate=1e-3),\n",
        "    metrics=[keras.metrics.SparseCategoricalAccuracy(name=\"acc\")],\n",
        ")"
      ],
      "metadata": {
        "id": "EJKD8i0hJZX9"
      },
      "execution_count": 12,
      "outputs": []
    },
    {
      "cell_type": "markdown",
      "source": [
        "# Compiling and Training the Custom Model"
      ],
      "metadata": {
        "id": "y4qDNSGJRHRv"
      }
    },
    {
      "cell_type": "code",
      "source": [
        "batch_size = 128\n",
        "epochs = 1  # For demonstration purposes\n",
        "\n",
        "# Assuming x_train, y_train are loaded as the training data\n",
        "model.fit(x_train, y_train, batch_size=batch_size, epochs=epochs)"
      ],
      "metadata": {
        "colab": {
          "base_uri": "https://localhost:8080/"
        },
        "id": "uvfCwz0TJbqT",
        "outputId": "f6590373-5878-4997-bf16-5208e5316944"
      },
      "execution_count": 13,
      "outputs": [
        {
          "output_type": "stream",
          "name": "stdout",
          "text": [
            "\u001b[1m469/469\u001b[0m \u001b[32m━━━━━━━━━━━━━━━━━━━━\u001b[0m\u001b[37m\u001b[0m \u001b[1m656s\u001b[0m 1s/step - acc: 0.5706 - loss: 1.2048\n"
          ]
        },
        {
          "output_type": "execute_result",
          "data": {
            "text/plain": [
              "<keras_core.src.callbacks.history.History at 0x7af07b206170>"
            ]
          },
          "metadata": {},
          "execution_count": 13
        }
      ]
    },
    {
      "cell_type": "code",
      "source": [],
      "metadata": {
        "id": "Hd12EUr5Jgz2"
      },
      "execution_count": null,
      "outputs": []
    }
  ]
}